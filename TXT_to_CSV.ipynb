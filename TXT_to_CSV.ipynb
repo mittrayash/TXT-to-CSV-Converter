{
 "cells": [
  {
   "cell_type": "code",
   "execution_count": 1,
   "metadata": {
    "collapsed": true
   },
   "outputs": [],
   "source": [
    "from os import listdir\n",
    "from os.path import isfile, join\n",
    "mypath = 'DataSet'\n",
    "onlyfiles = [f for f in listdir(mypath) if isfile(join(mypath, f))]"
   ]
  },
  {
   "cell_type": "code",
   "execution_count": null,
   "metadata": {},
   "outputs": [],
   "source": [
    "for f in onlyfiles:\n",
    "    ff = join(mypath, f)\n",
    "    file = open(ff)\n",
    "    newFileName = \"CSV/\" + f[:-4] + \".csv\"\n",
    "    newFile = open(newFileName, 'w+')\n",
    "    \n",
    "    if (ff[-4:] == '.txt' and ff != 'format.txt'):\n",
    "    \n",
    "        line = file.readline()\n",
    "        while line:\n",
    "            line = file.readline()\n",
    "            line2 = (line.replace('\\t', ','))\n",
    "            newFile.write(line2)\n",
    "    newFile.close()"
   ]
  },
  {
   "cell_type": "code",
   "execution_count": null,
   "metadata": {
    "collapsed": true
   },
   "outputs": [],
   "source": []
  }
 ],
 "metadata": {
  "kernelspec": {
   "display_name": "Python 3",
   "language": "python",
   "name": "python3"
  },
  "language_info": {
   "codemirror_mode": {
    "name": "ipython",
    "version": 3
   },
   "file_extension": ".py",
   "mimetype": "text/x-python",
   "name": "python",
   "nbconvert_exporter": "python",
   "pygments_lexer": "ipython3",
   "version": "3.6.1"
  }
 },
 "nbformat": 4,
 "nbformat_minor": 2
}
