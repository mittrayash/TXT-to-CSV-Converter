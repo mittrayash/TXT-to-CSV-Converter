{
 "cells": [
  {
   "cell_type": "code",
   "execution_count": 4,
   "metadata": {
    "collapsed": true
   },
   "outputs": [],
   "source": [
    "from os import listdir\n",
    "from os.path import isfile, join\n",
    "mypath = 'DataSet'\n",
    "onlyfiles = [f for f in listdir(mypath) if isfile(join(mypath, f))]\n"
   ]
  },
  {
   "cell_type": "code",
   "execution_count": 5,
   "metadata": {
    "collapsed": true
   },
   "outputs": [],
   "source": [
    "# Setting the column names according to the format given in format.txt\n",
    "c1=['Time(sec),']\n",
    "c2_9=[]\n",
    "c10_17=[]\n",
    "c_18=['Total_force_left,']\n",
    "c_19=['Total_force_right']\n",
    "\n",
    "for i in range(1,10):\n",
    "    c2_9.append('VGRF_left_s'+str(i)+',')\n",
    "    c10_17.append('VGRF_right_s'+str(i)+',')\n",
    "    \n",
    "columns=c1+c2_9+c10_17+c_18+c_19\n",
    " \n"
   ]
  },
  {
   "cell_type": "code",
   "execution_count": 6,
   "metadata": {},
   "outputs": [
    {
     "name": "stdout",
     "output_type": "stream",
     "text": [
      "Time(sec),VGRF_left_s1,VGRF_left_s2,VGRF_left_s3,VGRF_left_s4,VGRF_left_s5,VGRF_left_s6,VGRF_left_s7,VGRF_left_s8,VGRF_left_s9,VGRF_right_s1,VGRF_right_s2,VGRF_right_s3,VGRF_right_s4,VGRF_right_s5,VGRF_right_s6,VGRF_right_s7,VGRF_right_s8,VGRF_right_s9,Total_force_left,Total_force_right\n",
      "\n"
     ]
    }
   ],
   "source": [
    "# converting columns list into str to be appended at the top of every csv file\n",
    "ans=''\n",
    "for item in columns:\n",
    "    ans=ans+item\n",
    "ans=ans+'\\n'\n",
    "print(ans)\n"
   ]
  },
  {
   "cell_type": "code",
   "execution_count": 7,
   "metadata": {
    "collapsed": true
   },
   "outputs": [],
   "source": [
    "# Preparing every csv file\n",
    "for f in onlyfiles:\n",
    "    ff = join(mypath, f)\n",
    "    file = open(ff)\n",
    "    newFileName = \"CSV/\" + f[:-4] + \".csv\"\n",
    "    newFile = open(newFileName, 'w+')\n",
    "    newFile.write(''.join(ans))\n",
    "    if (ff[-4:] == '.txt' and ff != 'format.txt'):\n",
    "        \n",
    "        line = file.readline()\n",
    "        while line:\n",
    "            line = file.readline()\n",
    "            line2 = (line.replace('\\t', ','))\n",
    "            newFile.write(line2)\n",
    "    newFile.close()"
   ]
  },
  {
   "cell_type": "code",
   "execution_count": null,
   "metadata": {
    "collapsed": true
   },
   "outputs": [],
   "source": []
  }
 ],
 "metadata": {
  "kernelspec": {
   "display_name": "Python 3",
   "language": "python",
   "name": "python3"
  },
  "language_info": {
   "codemirror_mode": {
    "name": "ipython",
    "version": 3
   },
   "file_extension": ".py",
   "mimetype": "text/x-python",
   "name": "python",
   "nbconvert_exporter": "python",
   "pygments_lexer": "ipython3",
   "version": "3.6.1"
  }
 },
 "nbformat": 4,
 "nbformat_minor": 2
}
