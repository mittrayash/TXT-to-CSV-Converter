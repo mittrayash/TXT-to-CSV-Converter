{
 "cells": [
  {
   "cell_type": "code",
   "execution_count": 5,
   "metadata": {},
   "outputs": [],
   "source": [
    "from os import listdir\n",
    "from os.path import isfile, join\n",
    "mypath = '..\\DataSet'\n",
    "onlyfiles = [f for f in listdir(mypath) if isfile(join(mypath, f))]"
   ]
  },
  {
   "cell_type": "code",
   "execution_count": 35,
   "metadata": {},
   "outputs": [],
   "source": [
    "for f in onlyfiles:\n",
    "    ff = join(mypath, f)\n",
    "    file = open(ff)\n",
    "    newFile = f[:-4]\n",
    "    # content = file.read()\n",
    "    if (ff[-4:] == '.txt' and ff != 'format.txt'):\n",
    "        line = file.readline()\n",
    "        while line:\n",
    "            line = file.readline()\n",
    "        \n",
    "                \n",
    "    "
   ]
  },
  {
   "cell_type": "code",
   "execution_count": 32,
   "metadata": {},
   "outputs": [
    {
     "name": "stdout",
     "output_type": "stream",
     "text": [
      "demographics.\n",
      "demographics\n",
      "demographics\n",
      "format\n",
      "GaCo01_01\n",
      "GaCo02_01\n",
      "GaCo02_02\n",
      "GaCo03_01\n",
      "GaCo03_02\n",
      "GaCo04_01\n",
      "GaCo04_02\n",
      "GaCo05_01\n",
      "GaCo05_02\n",
      "GaCo06_01\n",
      "GaCo06_02\n",
      "GaCo07_01\n",
      "GaCo07_02\n",
      "GaCo08_01\n",
      "GaCo08_02\n",
      "GaCo09_01\n",
      "GaCo09_02\n",
      "GaCo10_01\n",
      "GaCo10_02\n",
      "GaCo11_01\n",
      "GaCo12_01\n",
      "GaCo13_01\n",
      "GaCo13_02\n",
      "GaCo13_10\n",
      "GaCo14_01\n",
      "GaCo14_02\n",
      "GaCo14_10\n",
      "GaCo15_01\n",
      "GaCo15_02\n",
      "GaCo15_10\n",
      "GaCo16_01\n",
      "GaCo16_02\n",
      "GaCo16_10\n",
      "GaCo17_01\n",
      "GaCo17_02\n",
      "GaCo17_10\n",
      "GaCo22_01\n",
      "GaCo22_10\n",
      "gaitpd\n",
      "GaPt03_01\n",
      "GaPt04_01\n",
      "GaPt05_01\n",
      "GaPt06_01\n",
      "GaPt07_01\n",
      "GaPt07_02\n",
      "GaPt08_01\n",
      "GaPt08_02\n",
      "GaPt09_01\n",
      "GaPt09_02\n",
      "GaPt12_01\n",
      "GaPt12_02\n",
      "GaPt13_01\n",
      "GaPt13_02\n",
      "GaPt13_10\n",
      "GaPt14_01\n",
      "GaPt14_02\n",
      "GaPt14_10\n",
      "GaPt15_01\n",
      "GaPt15_02\n",
      "GaPt15_10\n",
      "GaPt16_01\n",
      "GaPt16_02\n",
      "GaPt16_10\n",
      "GaPt17_01\n",
      "GaPt17_02\n",
      "GaPt17_10\n",
      "GaPt18_01\n",
      "GaPt18_02\n",
      "GaPt18_10\n",
      "GaPt19_01\n",
      "GaPt19_02\n",
      "GaPt19_10\n",
      "GaPt20_01\n",
      "GaPt20_02\n",
      "GaPt20_10\n",
      "GaPt21_01\n",
      "GaPt21_02\n",
      "GaPt21_10\n",
      "GaPt22_01\n",
      "GaPt22_02\n",
      "GaPt22_10\n"
     ]
    }
   ],
   "source": [
    "for f in onlyfiles:\n",
    "    ff = join(mypath, f)\n",
    "    file = open(ff)\n",
    "    print(f[:-4])"
   ]
  },
  {
   "cell_type": "code",
   "execution_count": null,
   "metadata": {
    "collapsed": true
   },
   "outputs": [],
   "source": []
  },
  {
   "cell_type": "code",
   "execution_count": null,
   "metadata": {
    "collapsed": true
   },
   "outputs": [],
   "source": []
  }
 ],
 "metadata": {
  "kernelspec": {
   "display_name": "Python 3",
   "language": "python",
   "name": "python3"
  },
  "language_info": {
   "codemirror_mode": {
    "name": "ipython",
    "version": 3
   },
   "file_extension": ".py",
   "mimetype": "text/x-python",
   "name": "python",
   "nbconvert_exporter": "python",
   "pygments_lexer": "ipython3",
   "version": "3.6.3"
  }
 },
 "nbformat": 4,
 "nbformat_minor": 2
}
